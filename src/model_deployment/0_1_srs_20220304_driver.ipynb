{
    "cells": [
        {
            "cell_type": "markdown",
            "metadata": {},
            "source": [
                "# tarfile test:"
            ]
        },
        {
            "cell_type": "markdown",
            "metadata": {},
            "source": [
                "ClientError: ClientError: API error (404): manifest for 991775080983.dkr.ecr.us-east-1.amazonaws.com/sagemaker-processing-hmlr:deployment not found: manifest unknown: Requested image not found"
            ]
        },
        {
            "cell_type": "code",
            "execution_count": 1,
            "metadata": {},
            "outputs": [],
            "source": [
                "import tarfile"
            ]
        },
        {
            "cell_type": "code",
            "execution_count": 10,
            "metadata": {
                "scrolled": true
            },
            "outputs": [
                {
                    "ename": "FileNotFoundError",
                    "evalue": "[Errno 2] No such file or directory: 'src/model_deployment/docker.tar.gzip'",
                    "output_type": "error",
                    "traceback": [
                        "\u001b[0;31m---------------------------------------------------------------------------\u001b[0m",
                        "\u001b[0;31mFileNotFoundError\u001b[0m                         Traceback (most recent call last)",
                        "\u001b[0;32m<ipython-input-10-42ea552fb38f>\u001b[0m in \u001b[0;36m<module>\u001b[0;34m\u001b[0m\n\u001b[0;32m----> 1\u001b[0;31m \u001b[0mtar\u001b[0m \u001b[0;34m=\u001b[0m \u001b[0mtarfile\u001b[0m\u001b[0;34m.\u001b[0m\u001b[0mopen\u001b[0m\u001b[0;34m(\u001b[0m\u001b[0;34mf'src/model_deployment/docker.tar.gzip'\u001b[0m\u001b[0;34m,\u001b[0m \u001b[0;34m\"w:bz2\"\u001b[0m\u001b[0;34m)\u001b[0m\u001b[0;34m\u001b[0m\u001b[0;34m\u001b[0m\u001b[0m\n\u001b[0m\u001b[1;32m      2\u001b[0m \u001b[0;32mfor\u001b[0m \u001b[0mname\u001b[0m \u001b[0;32min\u001b[0m \u001b[0;34m[\u001b[0m\u001b[0;34m\"src/model_deployment\"\u001b[0m\u001b[0;34m]\u001b[0m\u001b[0;34m:\u001b[0m\u001b[0;34m\u001b[0m\u001b[0;34m\u001b[0m\u001b[0m\n\u001b[1;32m      3\u001b[0m     \u001b[0mtar\u001b[0m\u001b[0;34m.\u001b[0m\u001b[0madd\u001b[0m\u001b[0;34m(\u001b[0m\u001b[0mname\u001b[0m\u001b[0;34m)\u001b[0m\u001b[0;34m\u001b[0m\u001b[0;34m\u001b[0m\u001b[0m\n\u001b[1;32m      4\u001b[0m \u001b[0mtar\u001b[0m\u001b[0;34m.\u001b[0m\u001b[0mclose\u001b[0m\u001b[0;34m(\u001b[0m\u001b[0;34m)\u001b[0m\u001b[0;34m\u001b[0m\u001b[0;34m\u001b[0m\u001b[0m\n",
                        "\u001b[0;32m/opt/anaconda3/lib/python3.8/tarfile.py\u001b[0m in \u001b[0;36mopen\u001b[0;34m(cls, name, mode, fileobj, bufsize, **kwargs)\u001b[0m\n\u001b[1;32m   1615\u001b[0m             \u001b[0;32melse\u001b[0m\u001b[0;34m:\u001b[0m\u001b[0;34m\u001b[0m\u001b[0;34m\u001b[0m\u001b[0m\n\u001b[1;32m   1616\u001b[0m                 \u001b[0;32mraise\u001b[0m \u001b[0mCompressionError\u001b[0m\u001b[0;34m(\u001b[0m\u001b[0;34m\"unknown compression type %r\"\u001b[0m \u001b[0;34m%\u001b[0m \u001b[0mcomptype\u001b[0m\u001b[0;34m)\u001b[0m\u001b[0;34m\u001b[0m\u001b[0;34m\u001b[0m\u001b[0m\n\u001b[0;32m-> 1617\u001b[0;31m             \u001b[0;32mreturn\u001b[0m \u001b[0mfunc\u001b[0m\u001b[0;34m(\u001b[0m\u001b[0mname\u001b[0m\u001b[0;34m,\u001b[0m \u001b[0mfilemode\u001b[0m\u001b[0;34m,\u001b[0m \u001b[0mfileobj\u001b[0m\u001b[0;34m,\u001b[0m \u001b[0;34m**\u001b[0m\u001b[0mkwargs\u001b[0m\u001b[0;34m)\u001b[0m\u001b[0;34m\u001b[0m\u001b[0;34m\u001b[0m\u001b[0m\n\u001b[0m\u001b[1;32m   1618\u001b[0m \u001b[0;34m\u001b[0m\u001b[0m\n\u001b[1;32m   1619\u001b[0m         \u001b[0;32melif\u001b[0m \u001b[0;34m\"|\"\u001b[0m \u001b[0;32min\u001b[0m \u001b[0mmode\u001b[0m\u001b[0;34m:\u001b[0m\u001b[0;34m\u001b[0m\u001b[0;34m\u001b[0m\u001b[0m\n",
                        "\u001b[0;32m/opt/anaconda3/lib/python3.8/tarfile.py\u001b[0m in \u001b[0;36mbz2open\u001b[0;34m(cls, name, mode, fileobj, compresslevel, **kwargs)\u001b[0m\n\u001b[1;32m   1693\u001b[0m             \u001b[0;32mraise\u001b[0m \u001b[0mCompressionError\u001b[0m\u001b[0;34m(\u001b[0m\u001b[0;34m\"bz2 module is not available\"\u001b[0m\u001b[0;34m)\u001b[0m\u001b[0;34m\u001b[0m\u001b[0;34m\u001b[0m\u001b[0m\n\u001b[1;32m   1694\u001b[0m \u001b[0;34m\u001b[0m\u001b[0m\n\u001b[0;32m-> 1695\u001b[0;31m         \u001b[0mfileobj\u001b[0m \u001b[0;34m=\u001b[0m \u001b[0mBZ2File\u001b[0m\u001b[0;34m(\u001b[0m\u001b[0mfileobj\u001b[0m \u001b[0;32mor\u001b[0m \u001b[0mname\u001b[0m\u001b[0;34m,\u001b[0m \u001b[0mmode\u001b[0m\u001b[0;34m,\u001b[0m \u001b[0mcompresslevel\u001b[0m\u001b[0;34m=\u001b[0m\u001b[0mcompresslevel\u001b[0m\u001b[0;34m)\u001b[0m\u001b[0;34m\u001b[0m\u001b[0;34m\u001b[0m\u001b[0m\n\u001b[0m\u001b[1;32m   1696\u001b[0m \u001b[0;34m\u001b[0m\u001b[0m\n\u001b[1;32m   1697\u001b[0m         \u001b[0;32mtry\u001b[0m\u001b[0;34m:\u001b[0m\u001b[0;34m\u001b[0m\u001b[0;34m\u001b[0m\u001b[0m\n",
                        "\u001b[0;32m/opt/anaconda3/lib/python3.8/bz2.py\u001b[0m in \u001b[0;36m__init__\u001b[0;34m(self, filename, mode, buffering, compresslevel)\u001b[0m\n\u001b[1;32m     94\u001b[0m \u001b[0;34m\u001b[0m\u001b[0m\n\u001b[1;32m     95\u001b[0m         \u001b[0;32mif\u001b[0m \u001b[0misinstance\u001b[0m\u001b[0;34m(\u001b[0m\u001b[0mfilename\u001b[0m\u001b[0;34m,\u001b[0m \u001b[0;34m(\u001b[0m\u001b[0mstr\u001b[0m\u001b[0;34m,\u001b[0m \u001b[0mbytes\u001b[0m\u001b[0;34m,\u001b[0m \u001b[0mos\u001b[0m\u001b[0;34m.\u001b[0m\u001b[0mPathLike\u001b[0m\u001b[0;34m)\u001b[0m\u001b[0;34m)\u001b[0m\u001b[0;34m:\u001b[0m\u001b[0;34m\u001b[0m\u001b[0;34m\u001b[0m\u001b[0m\n\u001b[0;32m---> 96\u001b[0;31m             \u001b[0mself\u001b[0m\u001b[0;34m.\u001b[0m\u001b[0m_fp\u001b[0m \u001b[0;34m=\u001b[0m \u001b[0m_builtin_open\u001b[0m\u001b[0;34m(\u001b[0m\u001b[0mfilename\u001b[0m\u001b[0;34m,\u001b[0m \u001b[0mmode\u001b[0m\u001b[0;34m)\u001b[0m\u001b[0;34m\u001b[0m\u001b[0;34m\u001b[0m\u001b[0m\n\u001b[0m\u001b[1;32m     97\u001b[0m             \u001b[0mself\u001b[0m\u001b[0;34m.\u001b[0m\u001b[0m_closefp\u001b[0m \u001b[0;34m=\u001b[0m \u001b[0;32mTrue\u001b[0m\u001b[0;34m\u001b[0m\u001b[0;34m\u001b[0m\u001b[0m\n\u001b[1;32m     98\u001b[0m             \u001b[0mself\u001b[0m\u001b[0;34m.\u001b[0m\u001b[0m_mode\u001b[0m \u001b[0;34m=\u001b[0m \u001b[0mmode_code\u001b[0m\u001b[0;34m\u001b[0m\u001b[0;34m\u001b[0m\u001b[0m\n",
                        "\u001b[0;31mFileNotFoundError\u001b[0m: [Errno 2] No such file or directory: 'src/model_deployment/docker.tar.gzip'"
                    ]
                }
            ],
            "source": [
                "tar = tarfile.open(f'src/model_deployment/docker.tar.gzip', \"w:bz2\")\n",
                "for name in [\"src/model_deployment\"]:\n",
                "    tar.add(name)\n",
                "tar.close()"
            ]
        },
        {
            "cell_type": "code",
            "execution_count": null,
            "metadata": {},
            "outputs": [],
            "source": [
                "push_image_ecr_deployment ('src/model_deployment/docker_ecr.sh',\n",
                "                           'develope', \n",
                "                           's3://hmlr-dp-poc4-data/sagemaker/pipelines-05w16kg9zn6t-Train-Models-JyyIITRPsn/output/model.tar.gz')"
            ]
        },
        {
            "cell_type": "markdown",
            "metadata": {},
            "source": [
                "# Push Docker Image to ECR:"
            ]
        },
        {
            "cell_type": "code",
            "execution_count": 23,
            "metadata": {},
            "outputs": [
                {
                    "ename": "ModuleNotFoundError",
                    "evalue": "No module named 'tools'",
                    "output_type": "error",
                    "traceback": [
                        "\u001b[0;31m---------------------------------------------------------------------------\u001b[0m",
                        "\u001b[0;31mModuleNotFoundError\u001b[0m                       Traceback (most recent call last)",
                        "\u001b[0;32m<ipython-input-23-1a68b3f42e35>\u001b[0m in \u001b[0;36m<module>\u001b[0;34m\u001b[0m\n\u001b[1;32m      1\u001b[0m \u001b[0;32mimport\u001b[0m \u001b[0msys\u001b[0m\u001b[0;34m,\u001b[0m \u001b[0mos\u001b[0m\u001b[0;34m\u001b[0m\u001b[0;34m\u001b[0m\u001b[0m\n\u001b[1;32m      2\u001b[0m \u001b[0mos\u001b[0m\u001b[0;34m.\u001b[0m\u001b[0mpath\u001b[0m\u001b[0;34m.\u001b[0m\u001b[0mabspath\u001b[0m\u001b[0;34m(\u001b[0m\u001b[0mos\u001b[0m\u001b[0;34m.\u001b[0m\u001b[0mpath\u001b[0m\u001b[0;34m.\u001b[0m\u001b[0mjoin\u001b[0m\u001b[0;34m(\u001b[0m\u001b[0;34m'..'\u001b[0m\u001b[0;34m)\u001b[0m\u001b[0;34m)\u001b[0m\u001b[0;34m\u001b[0m\u001b[0;34m\u001b[0m\u001b[0m\n\u001b[0;32m----> 3\u001b[0;31m \u001b[0;32mfrom\u001b[0m \u001b[0mtools\u001b[0m\u001b[0;34m.\u001b[0m\u001b[0mutils\u001b[0m \u001b[0;32mimport\u001b[0m \u001b[0;34m*\u001b[0m\u001b[0;34m\u001b[0m\u001b[0;34m\u001b[0m\u001b[0m\n\u001b[0m",
                        "\u001b[0;31mModuleNotFoundError\u001b[0m: No module named 'tools'"
                    ]
                }
            ],
            "source": [
                "import sys, os\n",
                "os.path.abspath(os.path.join('..'))\n",
                "from tools.utils import *"
            ]
        },
        {
            "cell_type": "code",
            "execution_count": 21,
            "metadata": {},
            "outputs": [
                {
                    "data": {
                        "text/plain": [
                            "'/home/ec2-user/SageMaker/hmlr-sow10-poc1-aws/src'"
                        ]
                    },
                    "execution_count": 21,
                    "metadata": {},
                    "output_type": "execute_result"
                }
            ],
            "source": [
                "import sys, os\n",
                "os.path.abspath(os.path.join('..'))\n",
                "\n",
                "from tools.utils import *"
            ]
        },
        {
            "cell_type": "code",
            "execution_count": 17,
            "metadata": {},
            "outputs": [
                {
                    "name": "stdout",
                    "output_type": "stream",
                    "text": [
                        "/home/ec2-user/SageMaker/hmlr-sow10-poc1-aws/src/model_deployment\r\n"
                    ]
                }
            ],
            "source": [
                "!pwd"
            ]
        },
        {
            "cell_type": "code",
            "execution_count": 13,
            "metadata": {},
            "outputs": [],
            "source": [
                "import sys, os\n",
                "sys.path.append(os.path.abspath(os.path.join('..', 'other_folder')))\n",
                "\n",
                "from utils import *"
            ]
        },
        {
            "cell_type": "code",
            "execution_count": 8,
            "metadata": {},
            "outputs": [
                {
                    "data": {
                        "text/plain": [
                            "PosixPath('(pwd)')"
                        ]
                    },
                    "execution_count": 8,
                    "metadata": {},
                    "output_type": "execute_result"
                }
            ],
            "source": [
                "from pathlib import Path\n",
                "path = Path('(pwd)')\n",
                "path"
            ]
        },
        {
            "cell_type": "code",
            "execution_count": 9,
            "metadata": {},
            "outputs": [],
            "source": [
                "import subprocess\n",
                "from pathlib import Path\n",
                "\n",
                "def push_image_ecr(ecr_prefix, model_artifact_path):\n",
                "    \"\"\"\n",
                "    Function for getting initial data that is needed for the main function \n",
                "    \n",
                "    Arguments::\n",
                "        * ecr_prefix: string\n",
                "            name for ecr repo\n",
                "    Outputs:\n",
                "         *     \n",
                "    \"\"\"\n",
                "    docker_file_path = Path('/home/ec2-user/SageMaker/hmlr-sow10-poc1-aws/src/model_deployment/docker_ecr.sh')\n",
                "    bashCommand = f\"chmod +x {docker_file_path} {model_artifact_path}\"\n",
                "    process = subprocess.Popen(bashCommand.split(), stdout=subprocess.PIPE)\n",
                "    bashCommand = f\"sh {docker_file_path} {ecr_prefix}\"\n",
                "    process = subprocess.Popen(bashCommand.split(), stdout=subprocess.PIPE)\n",
                "    output, error = process.communicate()\n",
                "    \n",
                "    return True"
            ]
        },
        {
            "cell_type": "code",
            "execution_count": 34,
            "metadata": {},
            "outputs": [],
            "source": [
                "%%sh\n",
                "cd container/src/models\n",
                "ls\n"
            ]
        },
        {
            "cell_type": "code",
            "execution_count": 12,
            "metadata": {},
            "outputs": [],
            "source": [
                "# branch_name = 'efactoring'\n",
                "# push_image_ecr(branch_name)"
            ]
        },
        {
            "cell_type": "code",
            "execution_count": 13,
            "metadata": {
                "scrolled": true
            },
            "outputs": [],
            "source": [
                "# bashCommand = \"chmod +x docker_ecr.sh\"\n",
                "# process = subprocess.Popen(bashCommand.split(), stdout=subprocess.PIPE)\n",
                "\n",
                "# bashCommand = \"sh docker_ecr.sh seven\"\n",
                "# process = subprocess.Popen(bashCommand.split(), stdout=subprocess.PIPE)\n",
                "\n",
                "# output, error = process.communicate()\n",
                "# error"
            ]
        },
        {
            "cell_type": "markdown",
            "metadata": {},
            "source": [
                "# SageMaker Client Setup:"
            ]
        },
        {
            "cell_type": "code",
            "execution_count": 1,
            "metadata": {},
            "outputs": [],
            "source": [
                "import boto3\n",
                "from sagemaker import get_execution_role\n",
                "from time import gmtime, strftime\n",
                "import time\n",
                "\n",
                "import json\n",
                "import requests"
            ]
        },
        {
            "cell_type": "code",
            "execution_count": 3,
            "metadata": {},
            "outputs": [],
            "source": [
                "client = boto3.client(service_name='sagemaker')\n",
                "runtime__client = boto3.client(service_name='sagemaker-runtime')\n",
                "\n",
                "account_id = boto3.client('sts').get_caller_identity()['Account']\n",
                "region = boto3.Session().region_name\n",
                "\n",
                "#not used here\n",
                "s3_bucket = 'hmlr-dp-poc1-data'\n",
                "\n",
                "role = get_execution_role()"
            ]
        },
        {
            "cell_type": "code",
            "execution_count": 6,
            "metadata": {},
            "outputs": [],
            "source": [
                "region = boto3.Session().region_name"
            ]
        },
        {
            "cell_type": "markdown",
            "metadata": {},
            "source": [
                "# Model Creation"
            ]
        },
        {
            "cell_type": "code",
            "execution_count": 23,
            "metadata": {},
            "outputs": [
                {
                    "data": {
                        "text/plain": [
                            "'arn:aws:iam::348583376301:role/service-role/AmazonSageMaker-ExecutionRole-20220216T084081'"
                        ]
                    },
                    "execution_count": 23,
                    "metadata": {},
                    "output_type": "execute_result"
                }
            ],
            "source": [
                "role"
            ]
        },
        {
            "cell_type": "code",
            "execution_count": 3,
            "metadata": {},
            "outputs": [
                {
                    "name": "stdout",
                    "output_type": "stream",
                    "text": [
                        "Model name: poc1-ve1-2022-03-09-15-16-40\n",
                        "Model data Url: s3://hmlr-dp-poc1-data/src/\n",
                        "Container image: 348583376301.dkr.ecr.eu-west-2.amazonaws.com/sagemaker-hmlr-efactoring:latest\n",
                        "Model Arn: arn:aws:sagemaker:eu-west-2:348583376301:model/poc1-ve1-2022-03-09-15-16-40\n"
                    ]
                }
            ],
            "source": [
                "def model_creation(s3_bucket, account_id, region, client, role ):\n",
                "    \"\"\"\n",
                "    \n",
                "    \"\"\"\n",
                "    model_name = 'poc1-ve1-' + strftime(\"%Y-%m-%d-%H-%M-%S\", gmtime())\n",
                "    model_url = 's3://{}/src/'.format(s3_bucket) \n",
                "    container = f'{account_id}.dkr.ecr.{region}.amazonaws.com/sagemaker-hmlr-efactoring:latest'\n",
                "\n",
                "    print('Model name: ' + model_name)\n",
                "    print('Model data Url: ' + model_url)\n",
                "    print('Container image: ' + container)\n",
                "\n",
                "    container = {\n",
                "        'Image': container\n",
                "    }\n",
                "\n",
                "    create_model_response = client.create_model(\n",
                "        ModelName = model_name,\n",
                "        ExecutionRoleArn = role,\n",
                "        Containers = [container])\n",
                "\n",
                "    print(\"Model Arn: \" + create_model_response['ModelArn'])\n",
                "    return model_name\n",
                "model_name = model_creation (s3_bucket, account_id, region, client )"
            ]
        },
        {
            "cell_type": "markdown",
            "metadata": {},
            "source": [
                "# Endpoint Config Creation\n"
            ]
        },
        {
            "cell_type": "code",
            "execution_count": 4,
            "metadata": {},
            "outputs": [
                {
                    "name": "stdout",
                    "output_type": "stream",
                    "text": [
                        "Endpoint config name: poc-ver-one-config2022-03-09-15-16-42 \n",
                        "Endpoint config Arn: arn:aws:sagemaker:eu-west-2:348583376301:endpoint-config/poc-ver-one-config2022-03-09-15-16-42 \n"
                    ]
                }
            ],
            "source": [
                "def endpoint_config_creation(model_name ):\n",
                "    \"\"\"\n",
                "    \"\"\"\n",
                "    endpoint_config_name = 'poc-ver-one-config' + strftime(\"%Y-%m-%d-%H-%M-%S\", gmtime())\n",
                "    print(f'Endpoint config name: {endpoint_config_name} ')\n",
                "\n",
                "    instance_type = 'ml.t2.medium'\n",
                "\n",
                "    create_endpoint_config_response = client.create_endpoint_config(\n",
                "        EndpointConfigName = endpoint_config_name,\n",
                "        ProductionVariants=[{\n",
                "            'InstanceType': instance_type,\n",
                "            'InitialInstanceCount': 1,\n",
                "            'InitialVariantWeight': 1,\n",
                "            'ModelName': model_name,\n",
                "            'VariantName': 'AllTraffic'}])\n",
                "\n",
                "    end_point_arn = create_endpoint_config_response['EndpointConfigArn']\n",
                "    print(f\"Endpoint config Arn: {end_point_arn} \")\n",
                "    return end_point_arn, endpoint_config_name\n",
                "end_point_arn, endpoint_config_name = endpoint_config_creation(model_name)"
            ]
        },
        {
            "cell_type": "markdown",
            "metadata": {},
            "source": [
                "# Endpoint Creation"
            ]
        },
        {
            "cell_type": "code",
            "execution_count": 25,
            "metadata": {},
            "outputs": [],
            "source": [
                "# endpoint_name = 'poc-one-endpoint-dev'\n",
                "# client.delete_endpoint(EndpointName=endpoint_name)\n",
                "# client.delete_endpoint_config(EndpointConfigName=endpoint_config_name)"
            ]
        },
        {
            "cell_type": "markdown",
            "metadata": {},
            "source": [
                "# Endpoint Invocation"
            ]
        },
        {
            "cell_type": "code",
            "execution_count": 2,
            "metadata": {},
            "outputs": [
                {
                    "data": {
                        "text/plain": [
                            "{'label_number': '3',\n",
                            " 'label_name': 'Notices',\n",
                            " 'predict_proba': '[0.14916471 0.05118615 0.05711905 0.36729705 0.0748373  0.30039574]'}"
                        ]
                    },
                    "execution_count": 2,
                    "metadata": {},
                    "output_type": "execute_result"
                }
            ],
            "source": [
                "runtime__client = boto3.client(service_name='sagemaker-runtime')\n",
                "endpoint_name = f'develop'\n",
                "\n",
                "content_type = \"application/json\"\n",
                "request_body = {\"text_input\": \"my name is Sohrab and I'm sending this from Amazon AWS Sagemaker test\",\n",
                "               \"pk\": 81000}\n",
                "\n",
                "#Serialize data for endpoint\n",
                "data = json.loads(json.dumps(request_body))\n",
                "payload = json.dumps(data)\n",
                "\n",
                "#Endpoint invocation\n",
                "response = runtime__client.invoke_endpoint(\n",
                "    EndpointName=endpoint_name,\n",
                "    ContentType=content_type,\n",
                "    Body=payload)\n",
                "\n",
                "#Parse results\n",
                "result = json.loads(response['Body'].read().decode())\n",
                "result"
            ]
        },
        {
            "cell_type": "code",
            "execution_count": 39,
            "metadata": {},
            "outputs": [
                {
                    "name": "stdout",
                    "output_type": "stream",
                    "text": [
                        "0_1_srs_20220304_driver.ipynb  container      __init__.py\r\n",
                        "api_deployment.py\t       docker_ecr.sh  __pycache__\r\n"
                    ]
                }
            ],
            "source": [
                "!ls"
            ]
        }
    ],
    "metadata": {
        "instance_type": "ml.t3.medium",
        "kernelspec": {
            "display_name": "Python 3",
            "language": "python",
            "name": "python3"
        },
        "language_info": {
            "codemirror_mode": {
                "name": "ipython",
                "version": 3
            },
            "file_extension": ".py",
            "mimetype": "text/x-python",
            "name": "python",
            "nbconvert_exporter": "python",
            "pygments_lexer": "ipython3",
            "version": "3.8.3"
        }
    },
    "nbformat": 4,
    "nbformat_minor": 5
}